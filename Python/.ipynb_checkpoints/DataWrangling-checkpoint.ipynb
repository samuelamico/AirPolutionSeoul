{
 "cells": [
  {
   "cell_type": "markdown",
   "metadata": {},
   "source": [
    "# Data Wrangling with Spark\n",
    "\n",
    "I use this notebook firts to make some knowledge about the dataset."
   ]
  },
  {
   "cell_type": "code",
   "execution_count": 1,
   "metadata": {},
   "outputs": [],
   "source": [
    "import findspark\n",
    "findspark.init()\n",
    "\n",
    "import pyspark"
   ]
  },
  {
   "cell_type": "code",
   "execution_count": 22,
   "metadata": {},
   "outputs": [],
   "source": [
    "from pyspark.sql import SparkSession\n",
    "from pyspark.sql.functions import udf\n",
    "from pyspark.sql.types import StringType\n",
    "from pyspark.sql.types import IntegerType\n",
    "from pyspark.sql.functions import desc\n",
    "from pyspark.sql.functions import asc\n",
    "from pyspark.sql.functions import sum as Fsum\n",
    "from pyspark.sql import functions as F\n",
    "\n",
    "import datetime\n",
    "\n",
    "import numpy as np\n",
    "import pandas as pd\n",
    "%matplotlib inline\n",
    "import matplotlib.pyplot as plt\n",
    "import os"
   ]
  },
  {
   "cell_type": "code",
   "execution_count": 3,
   "metadata": {},
   "outputs": [
    {
     "data": {
      "text/html": [
       "\n",
       "            <div>\n",
       "                <p><b>SparkSession - in-memory</b></p>\n",
       "                \n",
       "        <div>\n",
       "            <p><b>SparkContext</b></p>\n",
       "\n",
       "            <p><a href=\"http://DESKTOP-LQK2FTR:4040\">Spark UI</a></p>\n",
       "\n",
       "            <dl>\n",
       "              <dt>Version</dt>\n",
       "                <dd><code>v3.0.0-preview2</code></dd>\n",
       "              <dt>Master</dt>\n",
       "                <dd><code>local[*]</code></dd>\n",
       "              <dt>AppName</dt>\n",
       "                <dd><code>Wrangling Data</code></dd>\n",
       "            </dl>\n",
       "        </div>\n",
       "        \n",
       "            </div>\n",
       "        "
      ],
      "text/plain": [
       "<pyspark.sql.session.SparkSession at 0x1a98c1aa508>"
      ]
     },
     "execution_count": 3,
     "metadata": {},
     "output_type": "execute_result"
    }
   ],
   "source": [
    "####### Setting SparkSession:\n",
    "\n",
    "spark = SparkSession \\\n",
    "            .builder \\\n",
    "            .appName(\"Wrangling Data\") \\\n",
    "            .getOrCreate()\n",
    "\n",
    "spark"
   ]
  },
  {
   "cell_type": "markdown",
   "metadata": {},
   "source": [
    "## Read the dataset files:\n",
    "|\n",
    "\n",
    "|--> Item information\n",
    "\n",
    "|\n",
    "\n",
    "|--> Station information\n",
    "\n",
    "|\n",
    "\n",
    "|--> Measurement info\n",
    "\n",
    "|\n",
    "\n",
    "|--> Measurement Summary\n"
   ]
  },
  {
   "cell_type": "code",
   "execution_count": 4,
   "metadata": {},
   "outputs": [],
   "source": [
    "measurement_item_file  = os.path.join('Resources', \"Data_Measurement_item_info.csv\")\n",
    "measurement_station_file  = os.path.join('Resources', \"Data_Measurement_station_info.csv\")\n",
    "measurement_info_file  = os.path.join('Resources', \"Measurement_info.csv\")\n",
    "measurement_file  = os.path.join('Resources', \"Measurement_summary.csv\")"
   ]
  },
  {
   "cell_type": "markdown",
   "metadata": {},
   "source": [
    "### Item dataset"
   ]
  },
  {
   "cell_type": "code",
   "execution_count": 5,
   "metadata": {},
   "outputs": [],
   "source": [
    "item_info = spark.read.format(\"csv\").option(\"header\", \"true\").load(measurement_item_file)"
   ]
  },
  {
   "cell_type": "code",
   "execution_count": 6,
   "metadata": {},
   "outputs": [
    {
     "name": "stdout",
     "output_type": "stream",
     "text": [
      "root\n",
      " |-- Item code: string (nullable = true)\n",
      " |-- Item name: string (nullable = true)\n",
      " |-- Unit of measurement: string (nullable = true)\n",
      " |-- Good(Blue): string (nullable = true)\n",
      " |-- Normal(Green): string (nullable = true)\n",
      " |-- Bad(Yellow): string (nullable = true)\n",
      " |-- Very bad(Red): string (nullable = true)\n",
      "\n"
     ]
    }
   ],
   "source": [
    "item_info.printSchema()"
   ]
  },
  {
   "cell_type": "markdown",
   "metadata": {},
   "source": [
    "### Station dataset"
   ]
  },
  {
   "cell_type": "code",
   "execution_count": 7,
   "metadata": {},
   "outputs": [
    {
     "name": "stdout",
     "output_type": "stream",
     "text": [
      "root\n",
      " |-- Station code: string (nullable = true)\n",
      " |-- Station name(district): string (nullable = true)\n",
      " |-- Address: string (nullable = true)\n",
      " |-- Latitude: string (nullable = true)\n",
      " |-- Longitude: string (nullable = true)\n",
      "\n"
     ]
    }
   ],
   "source": [
    "station_info = spark.read.format(\"csv\").option(\"header\", \"true\").load(measurement_station_file)\n",
    "station_info.printSchema()"
   ]
  },
  {
   "cell_type": "markdown",
   "metadata": {},
   "source": [
    "### Info dataset"
   ]
  },
  {
   "cell_type": "code",
   "execution_count": 8,
   "metadata": {},
   "outputs": [
    {
     "name": "stdout",
     "output_type": "stream",
     "text": [
      "root\n",
      " |-- Measurement date: string (nullable = true)\n",
      " |-- Station code: string (nullable = true)\n",
      " |-- Item code: string (nullable = true)\n",
      " |-- Average value: string (nullable = true)\n",
      " |-- Instrument status: string (nullable = true)\n",
      "\n"
     ]
    }
   ],
   "source": [
    "info = spark.read.format(\"csv\").option(\"header\", \"true\").load(measurement_info_file)\n",
    "info.printSchema()"
   ]
  },
  {
   "cell_type": "markdown",
   "metadata": {},
   "source": [
    "### Measurament dataset"
   ]
  },
  {
   "cell_type": "code",
   "execution_count": 9,
   "metadata": {},
   "outputs": [
    {
     "name": "stdout",
     "output_type": "stream",
     "text": [
      "root\n",
      " |-- Measurement date: string (nullable = true)\n",
      " |-- Station code: string (nullable = true)\n",
      " |-- Address: string (nullable = true)\n",
      " |-- Latitude: string (nullable = true)\n",
      " |-- Longitude: string (nullable = true)\n",
      " |-- SO2: string (nullable = true)\n",
      " |-- NO2: string (nullable = true)\n",
      " |-- O3: string (nullable = true)\n",
      " |-- CO: string (nullable = true)\n",
      " |-- PM10: string (nullable = true)\n",
      " |-- PM2.5: string (nullable = true)\n",
      "\n"
     ]
    }
   ],
   "source": [
    "measurament = spark.read.format(\"csv\").option(\"header\", \"true\").load(measurement_file)\n",
    "measurament.printSchema()"
   ]
  },
  {
   "cell_type": "code",
   "execution_count": 13,
   "metadata": {},
   "outputs": [
    {
     "name": "stdout",
     "output_type": "stream",
     "text": [
      "+----------------+------------+--------------------+----------+-----------+-----+-----+-----+---+----+-----+\n",
      "|Measurement date|Station code|             Address|  Latitude|  Longitude|  SO2|  NO2|   O3| CO|PM10|PM2.5|\n",
      "+----------------+------------+--------------------+----------+-----------+-----+-----+-----+---+----+-----+\n",
      "|2017-01-01 00:00|         101|19, Jong-ro 35ga-...|37.5720164|127.0050075|0.004|0.059|0.002|1.2|73.0| 57.0|\n",
      "|2017-01-01 01:00|         101|19, Jong-ro 35ga-...|37.5720164|127.0050075|0.004|0.058|0.002|1.2|71.0| 59.0|\n",
      "|2017-01-01 02:00|         101|19, Jong-ro 35ga-...|37.5720164|127.0050075|0.004|0.056|0.002|1.2|70.0| 59.0|\n",
      "|2017-01-01 03:00|         101|19, Jong-ro 35ga-...|37.5720164|127.0050075|0.004|0.056|0.002|1.2|70.0| 58.0|\n",
      "|2017-01-01 04:00|         101|19, Jong-ro 35ga-...|37.5720164|127.0050075|0.003|0.051|0.002|1.2|69.0| 61.0|\n",
      "+----------------+------------+--------------------+----------+-----------+-----+-----+-----+---+----+-----+\n",
      "only showing top 5 rows\n",
      "\n"
     ]
    }
   ],
   "source": [
    "measurament.show(5)"
   ]
  },
  {
   "cell_type": "code",
   "execution_count": 14,
   "metadata": {},
   "outputs": [
    {
     "name": "stdout",
     "output_type": "stream",
     "text": [
      "+---------+---------+-------------------+----------+-------------+-----------+-------------+\n",
      "|Item code|Item name|Unit of measurement|Good(Blue)|Normal(Green)|Bad(Yellow)|Very bad(Red)|\n",
      "+---------+---------+-------------------+----------+-------------+-----------+-------------+\n",
      "|        1|      SO2|                ppm|      0.02|         0.05|       0.15|          1.0|\n",
      "|        3|      NO2|                ppm|      0.03|         0.06|        0.2|          2.0|\n",
      "|        5|       CO|                ppm|       2.0|          9.0|       15.0|         50.0|\n",
      "|        6|       O3|                ppm|      0.03|         0.09|       0.15|          0.5|\n",
      "|        8|     PM10|      Mircrogram/m3|      30.0|         80.0|      150.0|        600.0|\n",
      "|        9|    PM2.5|      Mircrogram/m3|      15.0|         35.0|       75.0|        500.0|\n",
      "+---------+---------+-------------------+----------+-------------+-----------+-------------+\n",
      "\n"
     ]
    }
   ],
   "source": [
    "item_info.show()"
   ]
  },
  {
   "cell_type": "markdown",
   "metadata": {},
   "source": [
    "------------------------------------------------------------------------------------------------------------------------------------\n",
    "------------------------------------------------------------------------------------------------------------------------------------"
   ]
  },
  {
   "cell_type": "markdown",
   "metadata": {},
   "source": [
    "### Verify The Color Level of each measurement info"
   ]
  },
  {
   "cell_type": "code",
   "execution_count": 79,
   "metadata": {},
   "outputs": [
    {
     "data": {
      "text/html": [
       "<div>\n",
       "<style scoped>\n",
       "    .dataframe tbody tr th:only-of-type {\n",
       "        vertical-align: middle;\n",
       "    }\n",
       "\n",
       "    .dataframe tbody tr th {\n",
       "        vertical-align: top;\n",
       "    }\n",
       "\n",
       "    .dataframe thead th {\n",
       "        text-align: right;\n",
       "    }\n",
       "</style>\n",
       "<table border=\"1\" class=\"dataframe\">\n",
       "  <thead>\n",
       "    <tr style=\"text-align: right;\">\n",
       "      <th></th>\n",
       "      <th>Item code</th>\n",
       "      <th>Item name</th>\n",
       "      <th>Unit of measurement</th>\n",
       "      <th>Good(Blue)</th>\n",
       "      <th>Normal(Green)</th>\n",
       "      <th>Bad(Yellow)</th>\n",
       "      <th>Very bad(Red)</th>\n",
       "    </tr>\n",
       "  </thead>\n",
       "  <tbody>\n",
       "    <tr>\n",
       "      <td>0</td>\n",
       "      <td>1</td>\n",
       "      <td>SO2</td>\n",
       "      <td>ppm</td>\n",
       "      <td>0.02</td>\n",
       "      <td>0.05</td>\n",
       "      <td>0.15</td>\n",
       "      <td>1.0</td>\n",
       "    </tr>\n",
       "    <tr>\n",
       "      <td>1</td>\n",
       "      <td>3</td>\n",
       "      <td>NO2</td>\n",
       "      <td>ppm</td>\n",
       "      <td>0.03</td>\n",
       "      <td>0.06</td>\n",
       "      <td>0.2</td>\n",
       "      <td>2.0</td>\n",
       "    </tr>\n",
       "    <tr>\n",
       "      <td>2</td>\n",
       "      <td>5</td>\n",
       "      <td>CO</td>\n",
       "      <td>ppm</td>\n",
       "      <td>2.0</td>\n",
       "      <td>9.0</td>\n",
       "      <td>15.0</td>\n",
       "      <td>50.0</td>\n",
       "    </tr>\n",
       "    <tr>\n",
       "      <td>3</td>\n",
       "      <td>6</td>\n",
       "      <td>O3</td>\n",
       "      <td>ppm</td>\n",
       "      <td>0.03</td>\n",
       "      <td>0.09</td>\n",
       "      <td>0.15</td>\n",
       "      <td>0.5</td>\n",
       "    </tr>\n",
       "    <tr>\n",
       "      <td>4</td>\n",
       "      <td>8</td>\n",
       "      <td>PM10</td>\n",
       "      <td>Mircrogram/m3</td>\n",
       "      <td>30.0</td>\n",
       "      <td>80.0</td>\n",
       "      <td>150.0</td>\n",
       "      <td>600.0</td>\n",
       "    </tr>\n",
       "  </tbody>\n",
       "</table>\n",
       "</div>"
      ],
      "text/plain": [
       "  Item code Item name Unit of measurement Good(Blue) Normal(Green)  \\\n",
       "0         1       SO2                 ppm       0.02          0.05   \n",
       "1         3       NO2                 ppm       0.03          0.06   \n",
       "2         5        CO                 ppm        2.0           9.0   \n",
       "3         6        O3                 ppm       0.03          0.09   \n",
       "4         8      PM10       Mircrogram/m3       30.0          80.0   \n",
       "\n",
       "  Bad(Yellow) Very bad(Red)  \n",
       "0        0.15           1.0  \n",
       "1         0.2           2.0  \n",
       "2        15.0          50.0  \n",
       "3        0.15           0.5  \n",
       "4       150.0         600.0  "
      ]
     },
     "execution_count": 79,
     "metadata": {},
     "output_type": "execute_result"
    }
   ],
   "source": [
    "# Convert item to pandas to use a function:\n",
    "def getLevel(value,name):\n",
    "    item_df = item_info.toPandas()\n",
    "    good_blue = float(item_df.loc[item_df[\"Item name\"]==name][\"Good(Blue)\"][0])\n",
    "    normal_green = float(item_df.loc[item_df[\"Item name\"]==name][\"Normal(Green)\"][0])\n",
    "    \n",
    "    if value < \n",
    "\n",
    "level_risk = udf(lambda x: )\n",
    "\n",
    "item_df = item_info.toPandas()\n",
    "item_df.head()"
   ]
  },
  {
   "cell_type": "code",
   "execution_count": 55,
   "metadata": {},
   "outputs": [],
   "source": [
    "recent_measurements = measurament.select([\"SO2\",F.regexp_extract('Measurement date',r'2017-01-01*', 0)])\n",
    "\n",
    "\n"
   ]
  },
  {
   "cell_type": "code",
   "execution_count": 80,
   "metadata": {},
   "outputs": [
    {
     "data": {
      "text/html": [
       "<div>\n",
       "<style scoped>\n",
       "    .dataframe tbody tr th:only-of-type {\n",
       "        vertical-align: middle;\n",
       "    }\n",
       "\n",
       "    .dataframe tbody tr th {\n",
       "        vertical-align: top;\n",
       "    }\n",
       "\n",
       "    .dataframe thead th {\n",
       "        text-align: right;\n",
       "    }\n",
       "</style>\n",
       "<table border=\"1\" class=\"dataframe\">\n",
       "  <thead>\n",
       "    <tr style=\"text-align: right;\">\n",
       "      <th></th>\n",
       "      <th>Item code</th>\n",
       "      <th>Item name</th>\n",
       "      <th>Unit of measurement</th>\n",
       "      <th>Good(Blue)</th>\n",
       "      <th>Normal(Green)</th>\n",
       "      <th>Bad(Yellow)</th>\n",
       "      <th>Very bad(Red)</th>\n",
       "    </tr>\n",
       "  </thead>\n",
       "  <tbody>\n",
       "    <tr>\n",
       "      <td>0</td>\n",
       "      <td>1</td>\n",
       "      <td>SO2</td>\n",
       "      <td>ppm</td>\n",
       "      <td>0.02</td>\n",
       "      <td>0.05</td>\n",
       "      <td>0.15</td>\n",
       "      <td>1.0</td>\n",
       "    </tr>\n",
       "    <tr>\n",
       "      <td>1</td>\n",
       "      <td>3</td>\n",
       "      <td>NO2</td>\n",
       "      <td>ppm</td>\n",
       "      <td>0.03</td>\n",
       "      <td>0.06</td>\n",
       "      <td>0.2</td>\n",
       "      <td>2.0</td>\n",
       "    </tr>\n",
       "    <tr>\n",
       "      <td>2</td>\n",
       "      <td>5</td>\n",
       "      <td>CO</td>\n",
       "      <td>ppm</td>\n",
       "      <td>2.0</td>\n",
       "      <td>9.0</td>\n",
       "      <td>15.0</td>\n",
       "      <td>50.0</td>\n",
       "    </tr>\n",
       "    <tr>\n",
       "      <td>3</td>\n",
       "      <td>6</td>\n",
       "      <td>O3</td>\n",
       "      <td>ppm</td>\n",
       "      <td>0.03</td>\n",
       "      <td>0.09</td>\n",
       "      <td>0.15</td>\n",
       "      <td>0.5</td>\n",
       "    </tr>\n",
       "    <tr>\n",
       "      <td>4</td>\n",
       "      <td>8</td>\n",
       "      <td>PM10</td>\n",
       "      <td>Mircrogram/m3</td>\n",
       "      <td>30.0</td>\n",
       "      <td>80.0</td>\n",
       "      <td>150.0</td>\n",
       "      <td>600.0</td>\n",
       "    </tr>\n",
       "  </tbody>\n",
       "</table>\n",
       "</div>"
      ],
      "text/plain": [
       "  Item code Item name Unit of measurement Good(Blue) Normal(Green)  \\\n",
       "0         1       SO2                 ppm       0.02          0.05   \n",
       "1         3       NO2                 ppm       0.03          0.06   \n",
       "2         5        CO                 ppm        2.0           9.0   \n",
       "3         6        O3                 ppm       0.03          0.09   \n",
       "4         8      PM10       Mircrogram/m3       30.0          80.0   \n",
       "\n",
       "  Bad(Yellow) Very bad(Red)  \n",
       "0        0.15           1.0  \n",
       "1         0.2           2.0  \n",
       "2        15.0          50.0  \n",
       "3        0.15           0.5  \n",
       "4       150.0         600.0  "
      ]
     },
     "execution_count": 80,
     "metadata": {},
     "output_type": "execute_result"
    }
   ],
   "source": [
    "item_df = item_info.toPandas()\n",
    "item_df.head()"
   ]
  },
  {
   "cell_type": "code",
   "execution_count": 85,
   "metadata": {},
   "outputs": [
    {
     "data": {
      "text/plain": [
       "0.02"
      ]
     },
     "execution_count": 85,
     "metadata": {},
     "output_type": "execute_result"
    }
   ],
   "source": [
    "float(item_df.loc[item_df[\"Item name\"]==\"SO2\"][\"Good(Blue)\"][0])"
   ]
  },
  {
   "cell_type": "code",
   "execution_count": null,
   "metadata": {},
   "outputs": [],
   "source": []
  },
  {
   "cell_type": "code",
   "execution_count": null,
   "metadata": {},
   "outputs": [],
   "source": []
  }
 ],
 "metadata": {
  "kernelspec": {
   "display_name": "Python 3",
   "language": "python",
   "name": "python3"
  },
  "language_info": {
   "codemirror_mode": {
    "name": "ipython",
    "version": 3
   },
   "file_extension": ".py",
   "mimetype": "text/x-python",
   "name": "python",
   "nbconvert_exporter": "python",
   "pygments_lexer": "ipython3",
   "version": "3.7.4"
  }
 },
 "nbformat": 4,
 "nbformat_minor": 2
}
