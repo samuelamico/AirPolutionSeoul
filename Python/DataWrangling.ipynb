{
 "cells": [
  {
   "cell_type": "markdown",
   "metadata": {},
   "source": [
    "# Data Wrangling with Spark\n",
    "\n",
    "I use this notebook firts to make some knowledge about the dataset."
   ]
  },
  {
   "cell_type": "code",
   "execution_count": 1,
   "metadata": {},
   "outputs": [],
   "source": [
    "import findspark\n",
    "findspark.init()\n",
    "\n",
    "import pyspark"
   ]
  },
  {
   "cell_type": "code",
   "execution_count": 2,
   "metadata": {},
   "outputs": [],
   "source": [
    "from pyspark.sql import SparkSession\n",
    "from pyspark.sql.functions import udf\n",
    "from pyspark.sql.types import StringType\n",
    "from pyspark.sql.types import IntegerType\n",
    "from pyspark.sql.functions import desc\n",
    "from pyspark.sql.functions import asc\n",
    "from pyspark.sql.functions import sum as Fsum\n",
    "from pyspark.sql import functions as F\n",
    "\n",
    "import datetime\n",
    "\n",
    "import numpy as np\n",
    "import pandas as pd\n",
    "%matplotlib inline\n",
    "import matplotlib.pyplot as plt\n",
    "import os"
   ]
  },
  {
   "cell_type": "code",
   "execution_count": 3,
   "metadata": {},
   "outputs": [
    {
     "data": {
      "text/html": [
       "\n",
       "            <div>\n",
       "                <p><b>SparkSession - in-memory</b></p>\n",
       "                \n",
       "        <div>\n",
       "            <p><b>SparkContext</b></p>\n",
       "\n",
       "            <p><a href=\"http://DESKTOP-LQK2FTR:4040\">Spark UI</a></p>\n",
       "\n",
       "            <dl>\n",
       "              <dt>Version</dt>\n",
       "                <dd><code>v3.0.0-preview2</code></dd>\n",
       "              <dt>Master</dt>\n",
       "                <dd><code>local[*]</code></dd>\n",
       "              <dt>AppName</dt>\n",
       "                <dd><code>Wrangling Data</code></dd>\n",
       "            </dl>\n",
       "        </div>\n",
       "        \n",
       "            </div>\n",
       "        "
      ],
      "text/plain": [
       "<pyspark.sql.session.SparkSession at 0x193c7f84948>"
      ]
     },
     "execution_count": 3,
     "metadata": {},
     "output_type": "execute_result"
    }
   ],
   "source": [
    "####### Setting SparkSession:\n",
    "\n",
    "spark = SparkSession \\\n",
    "            .builder \\\n",
    "            .appName(\"Wrangling Data\") \\\n",
    "            .getOrCreate()\n",
    "\n",
    "spark"
   ]
  },
  {
   "cell_type": "markdown",
   "metadata": {},
   "source": [
    "## Read the dataset files:\n",
    "|\n",
    "\n",
    "|--> Item information\n",
    "\n",
    "|\n",
    "\n",
    "|--> Station information\n",
    "\n",
    "|\n",
    "\n",
    "|--> Measurement info\n",
    "\n",
    "|\n",
    "\n",
    "|--> Measurement Summary\n"
   ]
  },
  {
   "cell_type": "code",
   "execution_count": 4,
   "metadata": {},
   "outputs": [],
   "source": [
    "measurement_item_file  = os.path.join('Resources', \"Data_Measurement_item_info.csv\")\n",
    "measurement_station_file  = os.path.join('Resources', \"Data_Measurement_station_info.csv\")\n",
    "measurement_info_file  = os.path.join('Resources', \"Measurement_info.csv\")\n",
    "measurement_file  = os.path.join('Resources', \"Measurement_summary.csv\")"
   ]
  },
  {
   "cell_type": "markdown",
   "metadata": {},
   "source": [
    "### Item dataset"
   ]
  },
  {
   "cell_type": "code",
   "execution_count": 5,
   "metadata": {},
   "outputs": [],
   "source": [
    "item_info = spark.read.format(\"csv\").option(\"header\", \"true\").load(measurement_item_file)"
   ]
  },
  {
   "cell_type": "code",
   "execution_count": 6,
   "metadata": {},
   "outputs": [
    {
     "name": "stdout",
     "output_type": "stream",
     "text": [
      "root\n",
      " |-- Item code: string (nullable = true)\n",
      " |-- Item name: string (nullable = true)\n",
      " |-- Unit of measurement: string (nullable = true)\n",
      " |-- Good(Blue): string (nullable = true)\n",
      " |-- Normal(Green): string (nullable = true)\n",
      " |-- Bad(Yellow): string (nullable = true)\n",
      " |-- Very bad(Red): string (nullable = true)\n",
      "\n"
     ]
    }
   ],
   "source": [
    "item_info.printSchema()"
   ]
  },
  {
   "cell_type": "markdown",
   "metadata": {},
   "source": [
    "### Station dataset"
   ]
  },
  {
   "cell_type": "code",
   "execution_count": 7,
   "metadata": {},
   "outputs": [
    {
     "name": "stdout",
     "output_type": "stream",
     "text": [
      "root\n",
      " |-- Station code: string (nullable = true)\n",
      " |-- Station name(district): string (nullable = true)\n",
      " |-- Address: string (nullable = true)\n",
      " |-- Latitude: string (nullable = true)\n",
      " |-- Longitude: string (nullable = true)\n",
      "\n"
     ]
    }
   ],
   "source": [
    "station_info = spark.read.format(\"csv\").option(\"header\", \"true\").load(measurement_station_file)\n",
    "station_info.printSchema()"
   ]
  },
  {
   "cell_type": "markdown",
   "metadata": {},
   "source": [
    "### Info dataset"
   ]
  },
  {
   "cell_type": "code",
   "execution_count": 8,
   "metadata": {},
   "outputs": [
    {
     "name": "stdout",
     "output_type": "stream",
     "text": [
      "root\n",
      " |-- Measurement date: string (nullable = true)\n",
      " |-- Station code: string (nullable = true)\n",
      " |-- Item code: string (nullable = true)\n",
      " |-- Average value: string (nullable = true)\n",
      " |-- Instrument status: string (nullable = true)\n",
      "\n"
     ]
    }
   ],
   "source": [
    "info = spark.read.format(\"csv\").option(\"header\", \"true\").load(measurement_info_file)\n",
    "info.printSchema()"
   ]
  },
  {
   "cell_type": "markdown",
   "metadata": {},
   "source": [
    "### Measurament dataset"
   ]
  },
  {
   "cell_type": "code",
   "execution_count": 9,
   "metadata": {},
   "outputs": [
    {
     "name": "stdout",
     "output_type": "stream",
     "text": [
      "root\n",
      " |-- Measurement date: string (nullable = true)\n",
      " |-- Station code: string (nullable = true)\n",
      " |-- Address: string (nullable = true)\n",
      " |-- Latitude: string (nullable = true)\n",
      " |-- Longitude: string (nullable = true)\n",
      " |-- SO2: string (nullable = true)\n",
      " |-- NO2: string (nullable = true)\n",
      " |-- O3: string (nullable = true)\n",
      " |-- CO: string (nullable = true)\n",
      " |-- PM10: string (nullable = true)\n",
      " |-- PM2.5: string (nullable = true)\n",
      "\n"
     ]
    }
   ],
   "source": [
    "measurament = spark.read.format(\"csv\").option(\"header\", \"true\").load(measurement_file)\n",
    "measurament.printSchema()"
   ]
  },
  {
   "cell_type": "code",
   "execution_count": 10,
   "metadata": {},
   "outputs": [
    {
     "name": "stdout",
     "output_type": "stream",
     "text": [
      "+----------------+------------+--------------------+----------+-----------+-----+-----+-----+---+----+-----+\n",
      "|Measurement date|Station code|             Address|  Latitude|  Longitude|  SO2|  NO2|   O3| CO|PM10|PM2.5|\n",
      "+----------------+------------+--------------------+----------+-----------+-----+-----+-----+---+----+-----+\n",
      "|2017-01-01 00:00|         101|19, Jong-ro 35ga-...|37.5720164|127.0050075|0.004|0.059|0.002|1.2|73.0| 57.0|\n",
      "|2017-01-01 01:00|         101|19, Jong-ro 35ga-...|37.5720164|127.0050075|0.004|0.058|0.002|1.2|71.0| 59.0|\n",
      "|2017-01-01 02:00|         101|19, Jong-ro 35ga-...|37.5720164|127.0050075|0.004|0.056|0.002|1.2|70.0| 59.0|\n",
      "|2017-01-01 03:00|         101|19, Jong-ro 35ga-...|37.5720164|127.0050075|0.004|0.056|0.002|1.2|70.0| 58.0|\n",
      "|2017-01-01 04:00|         101|19, Jong-ro 35ga-...|37.5720164|127.0050075|0.003|0.051|0.002|1.2|69.0| 61.0|\n",
      "+----------------+------------+--------------------+----------+-----------+-----+-----+-----+---+----+-----+\n",
      "only showing top 5 rows\n",
      "\n"
     ]
    }
   ],
   "source": [
    "measurament.show(5)"
   ]
  },
  {
   "cell_type": "code",
   "execution_count": 11,
   "metadata": {},
   "outputs": [
    {
     "name": "stdout",
     "output_type": "stream",
     "text": [
      "+---------+---------+-------------------+----------+-------------+-----------+-------------+\n",
      "|Item code|Item name|Unit of measurement|Good(Blue)|Normal(Green)|Bad(Yellow)|Very bad(Red)|\n",
      "+---------+---------+-------------------+----------+-------------+-----------+-------------+\n",
      "|        1|      SO2|                ppm|      0.02|         0.05|       0.15|          1.0|\n",
      "|        3|      NO2|                ppm|      0.03|         0.06|        0.2|          2.0|\n",
      "|        5|       CO|                ppm|       2.0|          9.0|       15.0|         50.0|\n",
      "|        6|       O3|                ppm|      0.03|         0.09|       0.15|          0.5|\n",
      "|        8|     PM10|      Mircrogram/m3|      30.0|         80.0|      150.0|        600.0|\n",
      "|        9|    PM2.5|      Mircrogram/m3|      15.0|         35.0|       75.0|        500.0|\n",
      "+---------+---------+-------------------+----------+-------------+-----------+-------------+\n",
      "\n"
     ]
    }
   ],
   "source": [
    "item_info.show()"
   ]
  },
  {
   "cell_type": "markdown",
   "metadata": {},
   "source": [
    "## Info - Class"
   ]
  },
  {
   "cell_type": "code",
   "execution_count": 12,
   "metadata": {},
   "outputs": [],
   "source": [
    "class equipament:\n",
    "    \n",
    "    def __init__(self, code,name,unit,level1,level2,level3,level4):\n",
    "        self.code = code\n",
    "        self.name = name\n",
    "        self.unit = unit\n",
    "        self.good = float(level1)\n",
    "        self.normal = float(level2)\n",
    "        self.bad = float(level3)\n",
    "        self.veryBad = float(level4)\n",
    "        self.color = 0\n",
    "    \n",
    "    \n",
    "    \n",
    "    def getLevel(self,value):\n",
    "        if value < self.good:\n",
    "            self.color = 1\n",
    "            return (\"Good\")\n",
    "        elif value < self.normal:\n",
    "            self.color = 2\n",
    "            return (\"Normal\")\n",
    "        elif value < self.bad:\n",
    "            self.color = 3\n",
    "            return (\"Bad\")\n",
    "        elif value < self.veryBad:\n",
    "            self.color = 4\n",
    "            return (\"Very Bad\")\n",
    "        \n",
    "    def __repr__(self):\n",
    "        return(f\"Equipament Code = {str(self.code)}, Name = {str(self.name)}, Unit of Measurement = {str(self.unit)}\")"
   ]
  },
  {
   "cell_type": "code",
   "execution_count": 13,
   "metadata": {},
   "outputs": [],
   "source": [
    "item_df = item_info.toPandas()\n",
    "\n",
    "list_equipaments = [equipament(row[0],row[1],row[2],row[3],row[4],row[5],row[6]) for index,row in item_df.iterrows()]"
   ]
  },
  {
   "cell_type": "code",
   "execution_count": 14,
   "metadata": {},
   "outputs": [
    {
     "data": {
      "text/plain": [
       "{'SO2': Equipament Code = 1, Name = SO2, Unit of Measurement = ppm,\n",
       " 'NO2': Equipament Code = 3, Name = NO2, Unit of Measurement = ppm,\n",
       " 'CO': Equipament Code = 5, Name = CO, Unit of Measurement = ppm,\n",
       " 'O3': Equipament Code = 6, Name = O3, Unit of Measurement = ppm,\n",
       " 'PM10': Equipament Code = 8, Name = PM10, Unit of Measurement = Mircrogram/m3,\n",
       " 'PM2.5': Equipament Code = 9, Name = PM2.5, Unit of Measurement = Mircrogram/m3}"
      ]
     },
     "execution_count": 14,
     "metadata": {},
     "output_type": "execute_result"
    }
   ],
   "source": [
    "equipaments = {\n",
    "    \"SO2\": list_equipaments[0],\n",
    "    \"NO2\": list_equipaments[1],\n",
    "    \"CO\": list_equipaments[2],\n",
    "    \"O3\": list_equipaments[3],\n",
    "    \"PM10\": list_equipaments[4],\n",
    "    \"PM2.5\": list_equipaments[5]\n",
    "}\n",
    "equipaments"
   ]
  },
  {
   "cell_type": "code",
   "execution_count": 15,
   "metadata": {},
   "outputs": [
    {
     "data": {
      "text/plain": [
       "'Good'"
      ]
     },
     "execution_count": 15,
     "metadata": {},
     "output_type": "execute_result"
    }
   ],
   "source": [
    "# Test\n",
    "\n",
    "equipaments[\"SO2\"].getLevel(0.0001)"
   ]
  },
  {
   "cell_type": "markdown",
   "metadata": {},
   "source": [
    "------------------------------------------------------------------------------------------------------------------------------------\n",
    "------------------------------------------------------------------------------------------------------------------------------------"
   ]
  },
  {
   "cell_type": "markdown",
   "metadata": {},
   "source": [
    "### Verify The Color Level of each measurement info"
   ]
  },
  {
   "cell_type": "code",
   "execution_count": 16,
   "metadata": {},
   "outputs": [],
   "source": [
    "# Get the level Risk for SO2\n",
    "level_risk = udf(lambda x: equipaments[\"SO2\"].getLevel(float(x)))"
   ]
  },
  {
   "cell_type": "code",
   "execution_count": 17,
   "metadata": {},
   "outputs": [],
   "source": [
    "# Pick a Type of Equipament Measurement\n",
    "from pyspark.sql.functions import col\n",
    "\n",
    "recent_measurements = measurament.select([col(\"SO2\").alias(\"SO2\"),col(\"Measurement date\"),\n",
    "                                          (F.regexp_extract('Measurement date',r'2017-01-01*', 0)).alias(\"DataNow\")\n",
    "                                         ])\n",
    "\n",
    "# Adding a column with Level Risk\n",
    "\n",
    "\n",
    "measurement_info_risk = recent_measurements.withColumn(\"Level\", level_risk(\"SO2\"))\n",
    "\n"
   ]
  },
  {
   "cell_type": "code",
   "execution_count": 18,
   "metadata": {},
   "outputs": [
    {
     "data": {
      "text/plain": [
       "[Row(SO2='0.004', Measurement date='2017-01-01 00:00', DataNow='2017-01-01', Level='Good'),\n",
       " Row(SO2='0.004', Measurement date='2017-01-01 01:00', DataNow='2017-01-01', Level='Good'),\n",
       " Row(SO2='0.004', Measurement date='2017-01-01 02:00', DataNow='2017-01-01', Level='Good'),\n",
       " Row(SO2='0.004', Measurement date='2017-01-01 03:00', DataNow='2017-01-01', Level='Good'),\n",
       " Row(SO2='0.003', Measurement date='2017-01-01 04:00', DataNow='2017-01-01', Level='Good'),\n",
       " Row(SO2='0.003', Measurement date='2017-01-01 05:00', DataNow='2017-01-01', Level='Good'),\n",
       " Row(SO2='0.003', Measurement date='2017-01-01 06:00', DataNow='2017-01-01', Level='Good'),\n",
       " Row(SO2='0.003', Measurement date='2017-01-01 07:00', DataNow='2017-01-01', Level='Good'),\n",
       " Row(SO2='0.004', Measurement date='2017-01-01 08:00', DataNow='2017-01-01', Level='Good'),\n",
       " Row(SO2='0.003', Measurement date='2017-01-01 09:00', DataNow='2017-01-01', Level='Good')]"
      ]
     },
     "execution_count": 18,
     "metadata": {},
     "output_type": "execute_result"
    }
   ],
   "source": [
    "measurement_info_risk.head(10)"
   ]
  },
  {
   "cell_type": "markdown",
   "metadata": {},
   "source": [
    "### 1.) Question There is any Bad or Very Bad level in 2017-01-01, for SO2 , check This"
   ]
  },
  {
   "cell_type": "code",
   "execution_count": 19,
   "metadata": {},
   "outputs": [],
   "source": [
    "measurament_now = measurament.select([\"SO2\",\"Measurement date\",\"Station code\"]) \\\n",
    "                            .filter(measurament[\"Measurement date\"].rlike(\"2017-01-01*\")) \\\n"
   ]
  },
  {
   "cell_type": "code",
   "execution_count": 20,
   "metadata": {},
   "outputs": [
    {
     "name": "stdout",
     "output_type": "stream",
     "text": [
      "+-----+----------------+------------+-----+\n",
      "|  SO2|Measurement date|Station code|Level|\n",
      "+-----+----------------+------------+-----+\n",
      "|0.004|2017-01-01 00:00|         101| Good|\n",
      "|0.004|2017-01-01 01:00|         101| Good|\n",
      "|0.004|2017-01-01 02:00|         101| Good|\n",
      "|0.004|2017-01-01 03:00|         101| Good|\n",
      "|0.003|2017-01-01 04:00|         101| Good|\n",
      "|0.003|2017-01-01 05:00|         101| Good|\n",
      "|0.003|2017-01-01 06:00|         101| Good|\n",
      "|0.003|2017-01-01 07:00|         101| Good|\n",
      "|0.004|2017-01-01 08:00|         101| Good|\n",
      "|0.003|2017-01-01 09:00|         101| Good|\n",
      "|0.004|2017-01-01 10:00|         101| Good|\n",
      "|0.004|2017-01-01 11:00|         101| Good|\n",
      "|0.004|2017-01-01 12:00|         101| Good|\n",
      "|0.005|2017-01-01 13:00|         101| Good|\n",
      "|0.006|2017-01-01 14:00|         101| Good|\n",
      "|0.006|2017-01-01 15:00|         101| Good|\n",
      "|0.006|2017-01-01 16:00|         101| Good|\n",
      "|0.005|2017-01-01 17:00|         101| Good|\n",
      "|0.005|2017-01-01 18:00|         101| Good|\n",
      "|0.005|2017-01-01 19:00|         101| Good|\n",
      "+-----+----------------+------------+-----+\n",
      "only showing top 20 rows\n",
      "\n"
     ]
    }
   ],
   "source": [
    "measurament_now = measurament_now.withColumn(\"Level\", level_risk(\"SO2\"))\n",
    "measurament_now.show()"
   ]
  },
  {
   "cell_type": "code",
   "execution_count": 21,
   "metadata": {},
   "outputs": [
    {
     "name": "stdout",
     "output_type": "stream",
     "text": [
      "Numbers of Bad ocurrence = 2 and Numbers of Very Bad ocurrence = 0\n"
     ]
    }
   ],
   "source": [
    "bad_ocurence = measurament_now.filter(measurament_now[\"Level\"] == \"Bad\").count()\n",
    "very_bad_occurence = measurament_now.filter(measurament_now[\"Level\"] == \"Very Bad\").count()\n",
    "\n",
    "print(f\"Numbers of Bad ocurrence = {bad_ocurence} and Numbers of Very Bad ocurrence = {very_bad_occurence}\")"
   ]
  },
  {
   "cell_type": "markdown",
   "metadata": {},
   "source": [
    "### 2.) Station Code 102, measuremeants"
   ]
  },
  {
   "cell_type": "code",
   "execution_count": 22,
   "metadata": {},
   "outputs": [
    {
     "name": "stdout",
     "output_type": "stream",
     "text": [
      "+------------+----------------------+--------------------+------------------+------------------+\n",
      "|Station code|Station name(district)|             Address|          Latitude|         Longitude|\n",
      "+------------+----------------------+--------------------+------------------+------------------+\n",
      "|         101|             Jongno-gu|19, Jong-ro 35ga-...|37.572016399999995|127.00500749999999|\n",
      "|         102|               Jung-gu|15, Deoksugung-gi...|37.564262899999996|126.97467569999999|\n",
      "+------------+----------------------+--------------------+------------------+------------------+\n",
      "only showing top 2 rows\n",
      "\n"
     ]
    }
   ],
   "source": [
    "station_info.show(2)"
   ]
  },
  {
   "cell_type": "code",
   "execution_count": 23,
   "metadata": {},
   "outputs": [
    {
     "data": {
      "text/plain": [
       "DataFrame[Station Code: string, SO2: string, Measurement date: string]"
      ]
     },
     "execution_count": 23,
     "metadata": {},
     "output_type": "execute_result"
    }
   ],
   "source": [
    "measurament.select([\"Station Code\",\"SO2\",\"Measurement date\"]).filter(measurament[\"Station Code\"] == 102)"
   ]
  },
  {
   "cell_type": "markdown",
   "metadata": {},
   "source": [
    "--------------------------------------------------------------------------------------------------------------------------------------------\n",
    "----------------------------------------------------------------------------------------------------"
   ]
  },
  {
   "cell_type": "markdown",
   "metadata": {},
   "source": [
    "## 3) Which station detected the highest amount of levels (Bad or Very bad) on 01-01-2017 for SO2"
   ]
  },
  {
   "cell_type": "code",
   "execution_count": 24,
   "metadata": {},
   "outputs": [
    {
     "name": "stdout",
     "output_type": "stream",
     "text": [
      "+------------+-----+----------------+-----+\n",
      "|Station Code|  SO2|Measurement date|Level|\n",
      "+------------+-----+----------------+-----+\n",
      "|         101|0.004|2017-01-01 00:00| Good|\n",
      "|         101|0.004|2017-01-01 01:00| Good|\n",
      "|         101|0.004|2017-01-01 02:00| Good|\n",
      "|         101|0.004|2017-01-01 03:00| Good|\n",
      "|         101|0.003|2017-01-01 04:00| Good|\n",
      "|         101|0.003|2017-01-01 05:00| Good|\n",
      "|         101|0.003|2017-01-01 06:00| Good|\n",
      "|         101|0.003|2017-01-01 07:00| Good|\n",
      "|         101|0.004|2017-01-01 08:00| Good|\n",
      "|         101|0.003|2017-01-01 09:00| Good|\n",
      "|         101|0.004|2017-01-01 10:00| Good|\n",
      "|         101|0.004|2017-01-01 11:00| Good|\n",
      "|         101|0.004|2017-01-01 12:00| Good|\n",
      "|         101|0.005|2017-01-01 13:00| Good|\n",
      "|         101|0.006|2017-01-01 14:00| Good|\n",
      "|         101|0.006|2017-01-01 15:00| Good|\n",
      "|         101|0.006|2017-01-01 16:00| Good|\n",
      "|         101|0.005|2017-01-01 17:00| Good|\n",
      "|         101|0.005|2017-01-01 18:00| Good|\n",
      "|         101|0.005|2017-01-01 19:00| Good|\n",
      "+------------+-----+----------------+-----+\n",
      "only showing top 20 rows\n",
      "\n"
     ]
    }
   ],
   "source": [
    "measurament_now = measurament.select([\"Station Code\",\"SO2\",\"Measurement date\"]) \\\n",
    "            .filter(measurament[\"Measurement date\"].rlike(\"2017-01-01*\")) \\\n",
    "            .withColumn(\"Level\", level_risk(\"SO2\"))\n",
    "    \n",
    "measurament_now.show()"
   ]
  },
  {
   "cell_type": "code",
   "execution_count": 25,
   "metadata": {},
   "outputs": [
    {
     "name": "stdout",
     "output_type": "stream",
     "text": [
      "+------------+--------------------+\n",
      "|Station Code|              Levels|\n",
      "+------------+--------------------+\n",
      "|         125|[Good, Good, Good...|\n",
      "|         124|[Good, Good, Good...|\n",
      "|         101|[Good, Good, Good...|\n",
      "|         112|[Good, Good, Good...|\n",
      "|         113|[Good, Good, Good...|\n",
      "|         107|[Good, Good, Good...|\n",
      "|         110|[Good, Good, Good...|\n",
      "|         120|[Good, Good, Good...|\n",
      "|         118|[Good, Good, Good...|\n",
      "|         104|[Good, Good, Good...|\n",
      "|         102|[Good, Good, Good...|\n",
      "|         111|[Good, Good, Good...|\n",
      "|         103|[Good, Good, Good...|\n",
      "|         115|[Good, Good, Good...|\n",
      "|         122|[Good, Good, Good...|\n",
      "|         108|[Good, Good, Good...|\n",
      "|         117|[Good, Good, Good...|\n",
      "|         114|[Good, Good, Good...|\n",
      "|         106|[Good, Good, Good...|\n",
      "|         116|[Good, Good, Good...|\n",
      "+------------+--------------------+\n",
      "only showing top 20 rows\n",
      "\n"
     ]
    }
   ],
   "source": [
    "# Agregate every station code per Level\n",
    "\n",
    "measurament_now_grouped = measurament_now.groupBy(\"Station Code\").agg(F.collect_list(\"Level\").alias(\"Levels\"))\n",
    "\n",
    "measurament_now_grouped.show()"
   ]
  },
  {
   "cell_type": "code",
   "execution_count": 26,
   "metadata": {},
   "outputs": [
    {
     "name": "stdout",
     "output_type": "stream",
     "text": [
      "+------------+------------+\n",
      "|Station Code|count(Level)|\n",
      "+------------+------------+\n",
      "|         112|           1|\n",
      "|         120|           1|\n",
      "+------------+------------+\n",
      "\n"
     ]
    }
   ],
   "source": [
    "measurament_now.filter((measurament_now[\"Level\"] == \"Bad\") | (measurament_now[\"Level\"] == \"Very Bad\")) \\\n",
    "               .groupBy(\"Station Code\").agg(F.countDistinct(\"Level\"))\\\n",
    "               .show() "
   ]
  },
  {
   "cell_type": "code",
   "execution_count": 27,
   "metadata": {},
   "outputs": [
    {
     "name": "stdout",
     "output_type": "stream",
     "text": [
      "+------------+-------------------+\n",
      "|Station Code|              Levls|\n",
      "+------------+-------------------+\n",
      "|         125|             [Good]|\n",
      "|         124|             [Good]|\n",
      "|         101|             [Good]|\n",
      "|         112|        [Good, Bad]|\n",
      "|         113|             [Good]|\n",
      "|         107|             [Good]|\n",
      "|         110|             [Good]|\n",
      "|         120|[Good, Normal, Bad]|\n",
      "|         118|             [Good]|\n",
      "|         104|             [Good]|\n",
      "|         102|     [Good, Normal]|\n",
      "|         111|             [Good]|\n",
      "|         103|             [Good]|\n",
      "|         115|             [Good]|\n",
      "|         122|             [Good]|\n",
      "|         108|             [Good]|\n",
      "|         117|             [Good]|\n",
      "|         114|             [Good]|\n",
      "|         106|             [Good]|\n",
      "|         116|             [Good]|\n",
      "+------------+-------------------+\n",
      "only showing top 20 rows\n",
      "\n"
     ]
    }
   ],
   "source": [
    "measurament_now_grouped.select(\"Station Code\",F.array_distinct(measurament_now_grouped.Levels).alias(\"Levls\")).show()"
   ]
  },
  {
   "cell_type": "markdown",
   "metadata": {},
   "source": [
    "## 4) Location for SO2"
   ]
  },
  {
   "cell_type": "code",
   "execution_count": 29,
   "metadata": {},
   "outputs": [
    {
     "name": "stdout",
     "output_type": "stream",
     "text": [
      "+------------+----------------------+--------------------+------------------+------------------+\n",
      "|Station code|Station name(district)|             Address|          Latitude|         Longitude|\n",
      "+------------+----------------------+--------------------+------------------+------------------+\n",
      "|         101|             Jongno-gu|19, Jong-ro 35ga-...|37.572016399999995|127.00500749999999|\n",
      "|         102|               Jung-gu|15, Deoksugung-gi...|37.564262899999996|126.97467569999999|\n",
      "|         103|            Yongsan-gu|136, Hannam-daero...|37.540032700000005|         127.00485|\n",
      "|         104|          Eunpyeong-gu|215, Jinheung-ro,...|        37.6098232|       126.9348476|\n",
      "|         105|          Seodaemun-gu|32, Segeomjeong-r...|        37.5937421|       126.9496787|\n",
      "+------------+----------------------+--------------------+------------------+------------------+\n",
      "only showing top 5 rows\n",
      "\n"
     ]
    }
   ],
   "source": [
    "station_info.show(5)"
   ]
  },
  {
   "cell_type": "code",
   "execution_count": 30,
   "metadata": {},
   "outputs": [
    {
     "name": "stdout",
     "output_type": "stream",
     "text": [
      "+------------+-----+----------------+-----+\n",
      "|Station Code|  SO2|Measurement date|Level|\n",
      "+------------+-----+----------------+-----+\n",
      "|         101|0.004|2017-01-01 00:00| Good|\n",
      "|         101|0.004|2017-01-01 01:00| Good|\n",
      "+------------+-----+----------------+-----+\n",
      "only showing top 2 rows\n",
      "\n"
     ]
    }
   ],
   "source": [
    "measurament_now.show(2)"
   ]
  },
  {
   "cell_type": "code",
   "execution_count": 43,
   "metadata": {},
   "outputs": [],
   "source": [
    "measuramente_station = measurament_now.select([\"SO2\",\"Station Code\"])\\\n",
    "                                        .groupBy(\"Station Code\")\\\n",
    "                                        .agg(F.avg(\"SO2\").alias(\"SO2\"))\\\n",
    "                                        .withColumn(\"Level\", level_risk(\"SO2\"))"
   ]
  },
  {
   "cell_type": "code",
   "execution_count": 44,
   "metadata": {},
   "outputs": [
    {
     "name": "stdout",
     "output_type": "stream",
     "text": [
      "+------------+--------------------+-----+\n",
      "|Station Code|                 SO2|Level|\n",
      "+------------+--------------------+-----+\n",
      "|         125|-2.26851851851848E-4| Good|\n",
      "|         124|0.005370370370370368| Good|\n",
      "|         101|0.004504629629629633| Good|\n",
      "|         112|0.005851851851851843| Good|\n",
      "|         113|-0.02700925925925...| Good|\n",
      "|         107| 0.00466666666666667| Good|\n",
      "|         110|0.005060185185185185| Good|\n",
      "|         120| 0.00506481481481481| Good|\n",
      "|         118|0.004712962962962965| Good|\n",
      "|         104|0.004574074074074078| Good|\n",
      "+------------+--------------------+-----+\n",
      "only showing top 10 rows\n",
      "\n"
     ]
    }
   ],
   "source": [
    "measuramente_station.show(10)"
   ]
  },
  {
   "cell_type": "code",
   "execution_count": 46,
   "metadata": {},
   "outputs": [],
   "source": [
    "## Convert to pandas to Plot\n",
    "\n",
    "station_pandas = measuramente_station.toPandas()"
   ]
  },
  {
   "cell_type": "code",
   "execution_count": 48,
   "metadata": {},
   "outputs": [
    {
     "data": {
      "text/html": [
       "<div>\n",
       "<style scoped>\n",
       "    .dataframe tbody tr th:only-of-type {\n",
       "        vertical-align: middle;\n",
       "    }\n",
       "\n",
       "    .dataframe tbody tr th {\n",
       "        vertical-align: top;\n",
       "    }\n",
       "\n",
       "    .dataframe thead th {\n",
       "        text-align: right;\n",
       "    }\n",
       "</style>\n",
       "<table border=\"1\" class=\"dataframe\">\n",
       "  <thead>\n",
       "    <tr style=\"text-align: right;\">\n",
       "      <th></th>\n",
       "      <th>Station Code</th>\n",
       "      <th>SO2</th>\n",
       "      <th>Level</th>\n",
       "    </tr>\n",
       "  </thead>\n",
       "  <tbody>\n",
       "    <tr>\n",
       "      <td>0</td>\n",
       "      <td>125</td>\n",
       "      <td>-0.000227</td>\n",
       "      <td>Good</td>\n",
       "    </tr>\n",
       "    <tr>\n",
       "      <td>1</td>\n",
       "      <td>124</td>\n",
       "      <td>0.005370</td>\n",
       "      <td>Good</td>\n",
       "    </tr>\n",
       "    <tr>\n",
       "      <td>2</td>\n",
       "      <td>101</td>\n",
       "      <td>0.004505</td>\n",
       "      <td>Good</td>\n",
       "    </tr>\n",
       "    <tr>\n",
       "      <td>3</td>\n",
       "      <td>112</td>\n",
       "      <td>0.005852</td>\n",
       "      <td>Good</td>\n",
       "    </tr>\n",
       "    <tr>\n",
       "      <td>4</td>\n",
       "      <td>113</td>\n",
       "      <td>-0.027009</td>\n",
       "      <td>Good</td>\n",
       "    </tr>\n",
       "  </tbody>\n",
       "</table>\n",
       "</div>"
      ],
      "text/plain": [
       "  Station Code       SO2 Level\n",
       "0          125 -0.000227  Good\n",
       "1          124  0.005370  Good\n",
       "2          101  0.004505  Good\n",
       "3          112  0.005852  Good\n",
       "4          113 -0.027009  Good"
      ]
     },
     "execution_count": 48,
     "metadata": {},
     "output_type": "execute_result"
    }
   ],
   "source": [
    "station_pandas.head()"
   ]
  },
  {
   "cell_type": "code",
   "execution_count": null,
   "metadata": {},
   "outputs": [],
   "source": []
  }
 ],
 "metadata": {
  "kernelspec": {
   "display_name": "Python 3",
   "language": "python",
   "name": "python3"
  },
  "language_info": {
   "codemirror_mode": {
    "name": "ipython",
    "version": 3
   },
   "file_extension": ".py",
   "mimetype": "text/x-python",
   "name": "python",
   "nbconvert_exporter": "python",
   "pygments_lexer": "ipython3",
   "version": "3.7.4"
  }
 },
 "nbformat": 4,
 "nbformat_minor": 2
}
